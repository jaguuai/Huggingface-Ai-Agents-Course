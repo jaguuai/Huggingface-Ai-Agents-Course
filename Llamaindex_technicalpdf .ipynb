{
  "nbformat": 4,
  "nbformat_minor": 0,
  "metadata": {
    "colab": {
      "private_outputs": true,
      "provenance": []
    },
    "kernelspec": {
      "name": "python3",
      "display_name": "Python 3"
    },
    "language_info": {
      "name": "python"
    }
  },
  "cells": [
    {
      "cell_type": "code",
      "source": [
        "!pip install pymupdf"
      ],
      "metadata": {
        "collapsed": true,
        "id": "el6EKl2PDomJ"
      },
      "execution_count": null,
      "outputs": []
    },
    {
      "cell_type": "code",
      "source": [
        "!pip install llama-index --upgrade  # Make sure llama-index is up-to-date\n"
      ],
      "metadata": {
        "collapsed": true,
        "id": "TZLUnA0jc8DV"
      },
      "execution_count": null,
      "outputs": []
    },
    {
      "cell_type": "code",
      "source": [
        "import os\n",
        "os.environ[\"OPENAI_API_KEY\"] = \"\"\n"
      ],
      "metadata": {
        "id": "kQRoSrbkdE9q"
      },
      "execution_count": null,
      "outputs": []
    },
    {
      "cell_type": "code",
      "source": [
        "import llama_index.core\n",
        "print(dir(llama_index.core))\n"
      ],
      "metadata": {
        "id": "naRegvF4QqTH"
      },
      "execution_count": null,
      "outputs": []
    },
    {
      "cell_type": "code",
      "source": [
        "import llama_index.core.callbacks\n",
        "print(dir(llama_index.core.callbacks))\n"
      ],
      "metadata": {
        "id": "2ak5BdcuQyJ_"
      },
      "execution_count": null,
      "outputs": []
    },
    {
      "cell_type": "code",
      "source": [
        "from llama_index.core import VectorStoreIndex, SimpleDirectoryReader\n",
        "from llama_index.readers.file import PyMuPDFReader\n",
        "from llama_index.core.callbacks import CallbackManager\n",
        "from llama_index.core.callbacks.token_counting import TokenCountingHandler  # Doğru import\n",
        "\n",
        "# PDF'den metin çıkarma\n",
        "reader = PyMuPDFReader()\n",
        "documents = reader.load_data(\"/content/sample_data/openai_gp4.pdf\")\n",
        "\n",
        "# Callback Manager kullanımı\n",
        "callback_manager = CallbackManager([])\n",
        "\n",
        "# TokenCountingHandler kullanımı\n",
        "token_callback = TokenCountingHandler()\n",
        "\n",
        "# Callback Manager'e ekleme\n",
        "callback_manager.add_handler(token_callback)\n",
        "\n",
        "index = VectorStoreIndex.from_documents(\n",
        "    documents,\n",
        "    callback_manager=callback_manager\n",
        ")\n",
        "\n",
        "# Sorgu motoru oluşturma\n",
        "query_engine = index.as_query_engine()\n",
        "\n",
        "# Örnek sorgu\n",
        "response = query_engine.query(\"GPT-4'ün özellikleri nelerdir?\")\n",
        "print(response)\n"
      ],
      "metadata": {
        "id": "ltz5VmvDTiU8"
      },
      "execution_count": null,
      "outputs": []
    }
  ]
}